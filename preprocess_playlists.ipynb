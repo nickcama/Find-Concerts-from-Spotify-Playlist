{
 "cells": [
  {
   "cell_type": "code",
   "execution_count": 1,
   "metadata": {},
   "outputs": [],
   "source": [
    "import pandas as pd"
   ]
  },
  {
   "cell_type": "markdown",
   "metadata": {},
   "source": [
    "Load playlists"
   ]
  },
  {
   "cell_type": "code",
   "execution_count": 2,
   "metadata": {},
   "outputs": [],
   "source": [
    "data_path = \"data/\"\n",
    "df_playlists = pd.read_json(data_path + \"Playlist1.json\")"
   ]
  },
  {
   "attachments": {},
   "cell_type": "markdown",
   "metadata": {},
   "source": [
    "Creates \"playlists\", which is a dictionary. Keys are playlist names and values are a set of all artists in that playlist"
   ]
  },
  {
   "cell_type": "code",
   "execution_count": 3,
   "metadata": {},
   "outputs": [],
   "source": [
    "num_playlists = df_playlists.shape[0]\n",
    "playlists=dict()\n",
    "for i in range(num_playlists):\n",
    "    # if playlist empty: skip\n",
    "    if not len(pd.json_normalize(df_playlists.iloc[i])[\"items\"][0]):\n",
    "        continue\n",
    "    new_df = pd.json_normalize(df_playlists.iloc[i])\n",
    "    artist_names_df = pd.json_normalize(new_df.loc[0]['items'])\n",
    "    artist_set = set(artist_names_df[\"track.artistName\"].values)\n",
    "    playlist_name = new_df.loc[0]['name']\n",
    "    num_songs = artist_names_df.shape[0]\n",
    "    playlists[playlist_name] = artist_set"
   ]
  },
  {
   "cell_type": "code",
   "execution_count": 5,
   "metadata": {},
   "outputs": [
    {
     "data": {
      "text/plain": [
       "dict"
      ]
     },
     "execution_count": 5,
     "metadata": {},
     "output_type": "execute_result"
    }
   ],
   "source": [
    "type(playlists)"
   ]
  },
  {
   "cell_type": "code",
   "execution_count": 6,
   "metadata": {},
   "outputs": [],
   "source": [
    "import pickle\n",
    "\n",
    "with open('playlist_artists.pickle', 'wb') as f:\n",
    "    pickle.dump(playlists,f)"
   ]
  }
 ],
 "metadata": {
  "kernelspec": {
   "display_name": "Python 3.9.12 64-bit",
   "language": "python",
   "name": "python3"
  },
  "language_info": {
   "codemirror_mode": {
    "name": "ipython",
    "version": 3
   },
   "file_extension": ".py",
   "mimetype": "text/x-python",
   "name": "python",
   "nbconvert_exporter": "python",
   "pygments_lexer": "ipython3",
   "version": "3.10.9"
  },
  "orig_nbformat": 4,
  "vscode": {
   "interpreter": {
    "hash": "b0fa6594d8f4cbf19f97940f81e996739fb7646882a419484c72d19e05852a7e"
   }
  }
 },
 "nbformat": 4,
 "nbformat_minor": 2
}
